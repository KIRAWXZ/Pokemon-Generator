{
 "cells": [
  {
   "cell_type": "code",
   "execution_count": 1,
   "metadata": {
    "collapsed": false,
    "deletable": true,
    "editable": true
   },
   "outputs": [],
   "source": [
    "import tensorflow as tf\n",
    "import numpy as np\n",
    "import glob\n",
    "import os\n",
    "import re\n",
    "import matplotlib\n",
    "matplotlib.use('TkAgg')\n",
    "import matplotlib.pyplot as plt\n",
    "import matplotlib.image as mpimg\n",
    "%matplotlib inline"
   ]
  },
  {
   "cell_type": "code",
   "execution_count": 2,
   "metadata": {
    "collapsed": true,
    "deletable": true,
    "editable": true
   },
   "outputs": [],
   "source": [
    "def plotPoke(x):\n",
    "    f, a = plt.subplots(2, 8, figsize=(13, 3))\n",
    "    for i in range(8):\n",
    "        a[0][i].imshow(x[i], cmap=plt.get_cmap('gray'))\n",
    "        a[0,i].axis('off')\n",
    "        a[1][i].imshow(x[i+8], cmap=plt.get_cmap('gray'))\n",
    "        a[1,i].axis('off')\n",
    "    f.show()\n",
    "    plt.draw()"
   ]
  },
  {
   "cell_type": "code",
   "execution_count": 3,
   "metadata": {
    "collapsed": false,
    "deletable": true,
    "editable": true
   },
   "outputs": [
    {
     "name": "stdout",
     "output_type": "stream",
     "text": [
      "Input data shape: (792, 40, 40, 3)\n"
     ]
    },
    {
     "name": "stderr",
     "output_type": "stream",
     "text": [
      "/usr/local/lib/python2.7/dist-packages/matplotlib/figure.py:402: UserWarning: matplotlib is currently using a non-GUI backend, so cannot show the figure\n",
      "  \"matplotlib is currently using a non-GUI backend, \"\n"
     ]
    },
    {
     "data": {
      "image/png": "[encoded data removed]",
      "text/plain": [
       "<matplotlib.figure.Figure at 0x7f06d4379d90>"
      ]
     },
     "metadata": {},
     "output_type": "display_data"
    }
   ],
   "source": [
    "# Create an empty array to store pokemon pics\n",
    "orig_img = np.empty((0, 40, 40, 3), dtype='float32')\n",
    "# Load all images and append into orig_img\n",
    "path = os.path.abspath(\"./AE_RGB.ipynb\")\n",
    "path = re.sub('[a-zA-Z\\s._]+$', '', path)\n",
    "for pic in glob.glob(path+'Pokemon/*.png'):\n",
    "    img = mpimg.imread(pic)\n",
    "    # remove alpha channel  %some alpha=0 but RGB is not equal to [1., 1., 1.]\n",
    "    img[img[:,:,3]==0] = np.ones((1,4))\n",
    "    img = img[:,:,0:3]\n",
    "    orig_img = np.append(orig_img, [img], axis=0)\n",
    "\n",
    "# Use plt to show original images \n",
    "print 'Input data shape: {}'.format(orig_img.shape)\n",
    "plotPoke(orig_img)"
   ]
  },
  {
   "cell_type": "code",
   "execution_count": 4,
   "metadata": {
    "collapsed": true,
    "deletable": true,
    "editable": true
   },
   "outputs": [],
   "source": [
    "# Parameters\n",
    "learning_rate = 0.0001\n",
    "training_epochs = 1000\n",
    "batch_size = 24\n",
    "display_step = 50\n",
    "examples_to_show = 8\n",
    "\n",
    "# Network Parameters\n",
    "n_input = [40, 40, 3] # Pokemon data input (img shape: 40*40*3)\n",
    "n_channel1 = 16\n",
    "n_channel2 = 32\n",
    "n_channel3 = 64\n",
    "gen_dim = 500"
   ]
  },
  {
   "cell_type": "code",
   "execution_count": 5,
   "metadata": {
    "collapsed": true,
    "deletable": true,
    "editable": true
   },
   "outputs": [],
   "source": [
    "# tf Graph input\n",
    "X = tf.placeholder(tf.float32, [None]+n_input)\n",
    "Z = tf.placeholder(tf.float32, [None, gen_dim])"
   ]
  },
  {
   "cell_type": "code",
   "execution_count": 6,
   "metadata": {
    "collapsed": true,
    "deletable": true,
    "editable": true
   },
   "outputs": [],
   "source": [
    "# Store layers weights & biases\n",
    "weights = {\n",
    "    'dis_h1': tf.Variable(tf.truncated_normal([5, 5, 3, n_channel1], stddev=0.01)),\n",
    "    'dis_h2': tf.Variable(tf.truncated_normal([5, 5, n_channel1, n_channel2], stddev=0.01)),\n",
    "    'dis_h3': tf.Variable(tf.truncated_normal([5, 5, n_channel2, n_channel3], stddev=0.01)),\n",
    "    'dis_h4': tf.Variable(tf.truncated_normal([5*5*n_channel3, 1], stddev=0.01)),\n",
    "\n",
    "    'gen_h1': tf.Variable(tf.truncated_normal([gen_dim, 5*5*n_channel3], stddev=0.01)),\n",
    "    'gen_h2': tf.Variable(tf.truncated_normal([5, 5, n_channel2, n_channel3], stddev=0.01)),\n",
    "    'gen_h3': tf.Variable(tf.truncated_normal([5, 5, n_channel1, n_channel2], stddev=0.01)),\n",
    "    'gen_h4': tf.Variable(tf.truncated_normal([5, 5, 3, n_channel1], stddev=0.01))\n",
    "}\n",
    "\n",
    "biases = {\n",
    "    'dis_h1': tf.Variable(tf.truncated_normal([n_channel1], stddev=0.01)),\n",
    "    'dis_h2': tf.Variable(tf.truncated_normal([n_channel2], stddev=0.01)),\n",
    "    'dis_h3': tf.Variable(tf.truncated_normal([n_channel3], stddev=0.01)),\n",
    "    'dis_h4': tf.Variable(tf.truncated_normal([1], stddev=0.01)),\n",
    "    \n",
    "    'gen_h1': tf.Variable(tf.truncated_normal([5*5*n_channel3], stddev=0.01)),\n",
    "    'gen_h2': tf.Variable(tf.truncated_normal([n_channel2], stddev=0.01)),\n",
    "    'gen_h3': tf.Variable(tf.truncated_normal([n_channel1], stddev=0.01)),\n",
    "    'gen_h4': tf.Variable(tf.truncated_normal([3], stddev=0.01))\n",
    "}"
   ]
  },
  {
   "cell_type": "code",
   "execution_count": 13,
   "metadata": {
    "collapsed": true,
    "deletable": true,
    "editable": true
   },
   "outputs": [],
   "source": [
    "def conv2d(x, W, b, strides=2):\n",
    "    # Conv2D wrapper, with bias and relu activation\n",
    "    x = tf.nn.conv2d(x, W, strides=[1, strides, strides, 1], padding='SAME')\n",
    "    return tf.nn.bias_add(x, b)\n",
    "\n",
    "def deconv2d(x, W, b, out_shape, strides=2):\n",
    "    x = tf.nn.conv2d_transpose(x, W, out_shape, strides=[1, strides, strides, 1], \n",
    "                               padding='SAME')\n",
    "    return tf.nn.bias_add(x, b)\n",
    "\n",
    "def project(x, W, b):\n",
    "    return tf.add(tf.matmul(x, W), b)\n",
    "\n",
    "# Define leaky rectified linear unit (ReLu)\n",
    "def lrelu(x, leak=0.2, name=\"lrelu\"):\n",
    "    with tf.variable_scope(name):\n",
    "        f1 = 0.5 * (1 + leak)\n",
    "        f2 = 0.5 * (1 - leak)\n",
    "        return f1 * x + f2 * abs(x)\n",
    "\n",
    "# Define generate random vector for generator\n",
    "def sample_Z(m, n):\n",
    "    return np.random.uniform(-1., 1., size=[m, n])    "
   ]
  },
  {
   "cell_type": "code",
   "execution_count": 8,
   "metadata": {
    "collapsed": true,
    "deletable": true,
    "editable": true
   },
   "outputs": [],
   "source": [
    "def generator(z):\n",
    "    hidden_g1 = project(z, weights['gen_h1'], biases['gen_h1'])\n",
    "    hidden_g1 = tf.reshape(hidden_g1, [-1, 5, 5, n_channel3])\n",
    "    \n",
    "    output_dim2 = tf.stack([tf.shape(z)[0], 10, 10, n_channel2])\n",
    "    hidden_g2 = tf.nn.relu(deconv2d(hidden_g1, weights['gen_h2'], biases['gen_h2'], output_dim2))\n",
    "    \n",
    "    output_dim3 = tf.stack([tf.shape(z)[0], 20, 20, n_channel1])\n",
    "    hidden_g3 = tf.nn.relu(deconv2d(hidden_g2, weights['gen_h3'], biases['gen_h3'], output_dim3))\n",
    "    \n",
    "    output_dim4 = tf.stack([tf.shape(z)[0], 40, 40, 3])\n",
    "    hidden_g4 = tf.nn.tanh(deconv2d(hidden_g3, weights['gen_h4'], biases['gen_h4'], output_dim4))\n",
    "    return hidden_g4\n",
    "\n",
    "def discriminator(x):\n",
    "    hidden_d1 = lrelu(conv2d(x, weights['dis_h1'], biases['dis_h1']))\n",
    "    hidden_d2 = lrelu(conv2d(hidden_d1, weights['dis_h2'], biases['dis_h2']))\n",
    "    hidden_d3 = lrelu(conv2d(hidden_d2, weights['dis_h3'], biases['dis_h3']))\n",
    "    hidden_d3 = tf.reshape(hidden_d3, [-1, 5*5*n_channel3])\n",
    "    \n",
    "    hidden_d4 = project(hidden_d3, weights[\"dis_h4\"], biases['dis_h4'])\n",
    "    return tf.nn.sigmoid(hidden_d3), hidden_d3"
   ]
  },
  {
   "cell_type": "code",
   "execution_count": 9,
   "metadata": {
    "collapsed": false,
    "deletable": true,
    "editable": true
   },
   "outputs": [],
   "source": [
    "# Construct discriminator and generator\n",
    "gen_sample = generator(Z)\n",
    "dis_real, dis_logits = discriminator(X)\n",
    "dis_fake, dis_logits_ = discriminator(gen_sample)\n",
    "\n",
    "# Define loss\n",
    "dis_loss_real = tf.reduce_mean(tf.nn.sigmoid_cross_entropy_with_logits(\n",
    "    logits=dis_logits, targets=tf.ones_like(dis_real)))\n",
    "dis_loss_fake = tf.reduce_mean(tf.nn.sigmoid_cross_entropy_with_logits(\n",
    "    logits=dis_logits_, targets=tf.zeros_like(dis_fake)))\n",
    "dis_loss = dis_loss_real+dis_loss_fake\n",
    "gen_loss = tf.reduce_mean(tf.nn.sigmoid_cross_entropy_with_logits(\n",
    "        logits=dis_logits_, targets=tf.ones_like(dis_fake)))\n",
    "\n",
    "# Optimizer for discriminator\n",
    "var_dis = [weights[i] for i in weights if re.match('dis', i)]+[biases[i] for i in biases if re.match('dis', i)]\n",
    "dis_optimizer = tf.train.AdamOptimizer(learning_rate).minimize(dis_loss, var_list= var_dis)\n",
    "# Optimizer for generator parameters\n",
    "var_gen = [weights[i] for i in weights if re.match('gen', i)]+[biases[i] for i in biases if re.match('gen', i)]\n",
    "gen_optimizer = tf.train.AdamOptimizer(learning_rate).minimize(gen_loss, var_list= var_gen)"
   ]
  },
  {
   "cell_type": "code",
   "execution_count": 10,
   "metadata": {
    "collapsed": true,
    "deletable": true,
    "editable": true
   },
   "outputs": [],
   "source": [
    "# Construct discriminator and generator\n",
    "gen_sample = generator(Z)\n",
    "_, dis_real = discriminator(X)\n",
    "_, dis_fake = discriminator(gen_sample)\n",
    "\n",
    "# Wasserstein GAN loss\n",
    "dis_loss = tf.reduce_mean(dis_real) - tf.reduce_mean(dis_fake)\n",
    "gen_loss = -tf.reduce_mean(dis_fake)\n",
    "\n",
    "# Optimizer for discriminator\n",
    "var_dis = [weights[i] for i in weights if re.match('dis', i)]+[biases[i] for i in biases if re.match('dis', i)]\n",
    "clip_dis = [p.assign(tf.clip_by_value(p, -0.01, 0.01)) for p in var_dis]\n",
    "dis_optimizer = tf.train.RMSPropOptimizer(learning_rate).minimize(-dis_loss, var_list= var_dis)\n",
    "# Optimizer for generator parameters\n",
    "var_gen = [weights[i] for i in weights if re.match('gen', i)]+[biases[i] for i in biases if re.match('gen', i)]\n",
    "gen_optimizer = tf.train.RMSPropOptimizer(learning_rate).minimize(gen_loss, var_list= var_gen)"
   ]
  },
  {
   "cell_type": "code",
   "execution_count": 11,
   "metadata": {
    "collapsed": true,
    "deletable": true,
    "editable": true
   },
   "outputs": [],
   "source": [
    "# Initializing the variables\n",
    "init = tf.global_variables_initializer()\n",
    "\n",
    "# Create session and graph, initial variables\n",
    "sess = tf.InteractiveSession()\n",
    "sess.run(init)"
   ]
  },
  {
   "cell_type": "code",
   "execution_count": null,
   "metadata": {
    "collapsed": false,
    "deletable": true,
    "editable": true
   },
   "outputs": [],
   "source": [
    "# Load previous trained model and rewrite to variables, if exists\n",
    "# Before run this cell, you have to run the cell above first, to define variables and init it.\n",
    "weightSaver = tf.train.Saver(var_list=weights)\n",
    "biaseSaver = tf.train.Saver(var_list=biases)\n",
    "\n",
    "weightSaver.restore(sess, \"./saved_model/DCGAN_weights.ckpt\")\n",
    "biaseSaver.restore(sess, \"./saved_model/DCGAN_biases.ckpt\")\n",
    "\n",
    "print \"Model restored.\""
   ]
  },
  {
   "cell_type": "code",
   "execution_count": 14,
   "metadata": {
    "collapsed": false,
    "deletable": true,
    "editable": true,
    "scrolled": false
   },
   "outputs": [
    {
     "name": "stdout",
     "output_type": "stream",
     "text": [
      "Epoch: 0001   Discriminator loss: 0.000015   Generator loss: -0.002832\n",
      "Epoch: 0050   Discriminator loss: 0.029490   Generator loss: -0.396489\n",
      "Epoch: 0100   Discriminator loss: 0.018655   Generator loss: -0.086476\n",
      "Epoch: 0150   Discriminator loss: 0.015254   Generator loss: -0.092753\n",
      "Epoch: 0200   Discriminator loss: 0.009911   Generator loss: -0.045733\n",
      "Epoch: 0250   Discriminator loss: 0.009442   Generator loss: -0.102153\n",
      "Epoch: 0300   Discriminator loss: 0.007760   Generator loss: -0.081388\n",
      "Epoch: 0350   Discriminator loss: 0.003578   Generator loss: -0.092292\n",
      "Epoch: 0400   Discriminator loss: 0.006121   Generator loss: -0.066052\n",
      "Epoch: 0450   Discriminator loss: 0.005190   Generator loss: -0.031615\n",
      "Epoch: 0500   Discriminator loss: 0.004360   Generator loss: -0.024520\n",
      "Epoch: 0550   Discriminator loss: 0.004822   Generator loss: -0.022221\n",
      "Epoch: 0600   Discriminator loss: 0.004102   Generator loss: -0.011837\n",
      "Epoch: 0650   Discriminator loss: 0.003306   Generator loss: -0.068078\n",
      "Epoch: 0700   Discriminator loss: 0.003666   Generator loss: -0.025206\n",
      "Epoch: 0750   Discriminator loss: 0.002215   Generator loss: -0.003653\n",
      "Epoch: 0800   Discriminator loss: 0.002153   Generator loss: -0.031147\n",
      "Epoch: 0850   Discriminator loss: 0.001381   Generator loss: -0.042615\n",
      "Epoch: 0900   Discriminator loss: 0.002724   Generator loss: -0.036706\n",
      "Epoch: 0950   Discriminator loss: 0.002820   Generator loss: -0.025772\n",
      "Epoch: 1000   Discriminator loss: 0.001556   Generator loss: -0.026222\n",
      "Optimization Finished!\n"
     ]
    }
   ],
   "source": [
    "total_batch = int(orig_img.shape[0]/batch_size)\n",
    "# Training cycle\n",
    "for epoch in range(training_epochs):\n",
    "    # Loop over all batches\n",
    "    start = 0; end = batch_size\n",
    "    for i in range(total_batch-1):\n",
    "        index = np.arange(start, end)\n",
    "        np.random.shuffle(index)\n",
    "        batch_xs = orig_img[index]\n",
    "        batch_zs = sample_Z(batch_size, gen_dim)\n",
    "        # Run optimization op (backprop) and loss op (to get loss value)\n",
    "        _, d_loss_train, _ = sess.run([dis_optimizer, dis_loss, clip_dis], feed_dict = {X: batch_xs, Z: batch_zs})\n",
    "        _, g_loss_train = sess.run([gen_optimizer, gen_loss], feed_dict = {Z: batch_zs})\n",
    "        start = end; end = start+batch_size\n",
    "    # Display logs per epoch step\n",
    "    if ((epoch == 0) or (epoch+1) % display_step == 0) or ((epoch+1) == training_epochs):\n",
    "        print 'Epoch: {0:04d}   Discriminator loss: {1:f}   Generator loss: {2:f}'.format(epoch+1, d_loss_train, g_loss_train)\n",
    "\n",
    "print(\"Optimization Finished!\")"
   ]
  },
  {
   "cell_type": "code",
   "execution_count": 15,
   "metadata": {
    "collapsed": false,
    "deletable": true,
    "editable": true
   },
   "outputs": [
    {
     "data": {
      "image/png": "[encoded data removed]",
      "text/plain": [
       "<matplotlib.figure.Figure at 0x7f069441ec50>"
      ]
     },
     "metadata": {},
     "output_type": "display_data"
    }
   ],
   "source": [
    "# Let's GENERATE Pokemon !!!!\n",
    "DCWGAN = sess.run(\n",
    "    gen_sample, feed_dict={Z: sample_Z(examples_to_show*2, gen_dim)})\n",
    "\n",
    "# Compare original images with their reconstructions\n",
    "f, a = plt.subplots(2, examples_to_show, figsize=(13, 3))\n",
    "for i in range(examples_to_show):\n",
    "    a[0][i].imshow(DCWGAN[i])\n",
    "    a[0,i].axis('off')\n",
    "    a[1][i].imshow(DCWGAN[i*2])\n",
    "    a[1,i].axis('off')\n",
    "f.show()\n",
    "plt.draw()"
   ]
  },
  {
   "cell_type": "code",
   "execution_count": null,
   "metadata": {
    "collapsed": false,
    "deletable": true,
    "editable": true
   },
   "outputs": [],
   "source": [
    "newPok = sess.run(\n",
    "    gen_sample, feed_dict={Z: sample_Z(1, gen_dim)})\n",
    "plt.imshow(newPok[0])"
   ]
  },
  {
   "cell_type": "code",
   "execution_count": null,
   "metadata": {
    "collapsed": true,
    "deletable": true,
    "editable": true
   },
   "outputs": [],
   "source": [
    "# Save trained Variables \n",
    "weightSaver = tf.train.Saver(var_list=weights)\n",
    "biaseSaver = tf.train.Saver(var_list=biases)\n",
    "save_path = weightSaver.save(sess, \"./saved_model/DCGAN_weights.ckpt\")\n",
    "save_path = biaseSaver.save(sess, \"./saved_model/DCGAN_biases.ckpt\")"
   ]
  },
  {
   "cell_type": "code",
   "execution_count": null,
   "metadata": {
    "collapsed": true,
    "deletable": true,
    "editable": true
   },
   "outputs": [],
   "source": []
  }
 ],
 "metadata": {
  "kernelspec": {
   "display_name": "Python 2",
   "language": "python",
   "name": "python2"
  },
  "language_info": {
   "codemirror_mode": {
    "name": "ipython",
    "version": 2
   },
   "file_extension": ".py",
   "mimetype": "text/x-python",
   "name": "python",
   "nbconvert_exporter": "python",
   "pygments_lexer": "ipython2",
   "version": "2.7.12"
  }
 },
 "nbformat": 4,
 "nbformat_minor": 2
}

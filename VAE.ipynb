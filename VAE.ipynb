{
 "cells": [
  {
   "cell_type": "code",
   "execution_count": null,
   "metadata": {
    "collapsed": false
   },
   "outputs": [],
   "source": [
    "import tensorflow as tf\n",
    "import numpy as np\n",
    "import glob\n",
    "import cv2\n",
    "import os\n",
    "import re\n",
    "import matplotlib\n",
    "matplotlib.use('TkAgg')\n",
    "import matplotlib.pyplot as plt\n",
    "import matplotlib.image as mpimg\n",
    "%matplotlib inline"
   ]
  },
  {
   "cell_type": "code",
   "execution_count": null,
   "metadata": {
    "collapsed": true
   },
   "outputs": [],
   "source": [
    "def plotPoke(x):\n",
    "    f, a = plt.subplots(2, 8, figsize=(8, 2))\n",
    "    for i in range(8):\n",
    "        a[0][i].imshow(x[i], cmap=plt.get_cmap('gray'))\n",
    "        a[0,i].axis('off')\n",
    "        a[1][i].imshow(x[i+8], cmap=plt.get_cmap('gray'))\n",
    "        a[1,i].axis('off')\n",
    "    f.show()\n",
    "    plt.draw()"
   ]
  },
  {
   "cell_type": "code",
   "execution_count": null,
   "metadata": {
    "collapsed": false
   },
   "outputs": [],
   "source": [
    "# Create an empty array to store pokemon pics\n",
    "orig_img = np.empty((0, 40, 40,3), dtype='float32')\n",
    "# Load all images and append into orig_img\n",
    "path = os.path.abspath(\"./VAE.ipynb\")\n",
    "path = re.sub('[a-zA-Z\\s._]+$', '', path)\n",
    "for pic in glob.glob(path+'Pokemon/*.png'):\n",
    "    img = mpimg.imread(pic)\n",
    "    # remove alpha channel  %some alpha=0 but RGB is not equal to [1., 1., 1.]\n",
    "    img[img[:,:,3]==0] = np.ones((1,4))\n",
    "    img = img[:,:,:3]\n",
    "    orig_img = np.append(orig_img, [img], axis=0)\n",
    "\n",
    "# Use plt to show original images \n",
    "plotPoke(orig_img)"
   ]
  },
  {
   "cell_type": "code",
   "execution_count": null,
   "metadata": {
    "collapsed": false
   },
   "outputs": [],
   "source": [
    "# Transpose RGB channels into 3 different independent image\n",
    "# Then flatted all pixel into one dimension\n",
    "X_flat = np.transpose(orig_img, (0,3,1,2))\n",
    "X_flat = X_flat.reshape(2376, 1600)\n",
    "\n",
    "print 'Original image shape:  {0}\\nFlatted image shape:  {1}'.format(orig_img.shape, X_flat.shape)"
   ]
  },
  {
   "cell_type": "code",
   "execution_count": null,
   "metadata": {
    "collapsed": true
   },
   "outputs": [],
   "source": [
    "# Parameters\n",
    "learning_rate = 0.01\n",
    "training_epochs = 10000\n",
    "batch_size = 24\n",
    "display_step = 20\n",
    "examples_to_show = 8\n",
    "l2_lambda = 0 # regularization weight\n",
    "\n",
    "# Network Parameters\n",
    "n_hidden_1 = 1024\n",
    "n_hidden_2 = 512\n",
    "n_latent = 40\n",
    "n_input = 1600 # Pokemon input (img shape: 40*40)"
   ]
  },
  {
   "cell_type": "code",
   "execution_count": null,
   "metadata": {
    "collapsed": true
   },
   "outputs": [],
   "source": [
    "# tf Graph input (only pictures)\n",
    "X = tf.placeholder(\"float\", [None, n_input])\n",
    "\n",
    "weights = {\n",
    "    'encoder_h1': tf.Variable(tf.truncated_normal([n_input, n_hidden_1], stddev=0.01)),\n",
    "    'encoder_h2': tf.Variable(tf.truncated_normal([n_hidden_1, n_hidden_2], stddev=0.01)),\n",
    "    'hidden_mu' : tf.Variable(tf.truncated_normal([n_hidden_2, n_latent], stddev=0.01)),\n",
    "    'hidden_sig': tf.Variable(tf.truncated_normal([n_hidden_2, n_latent], stddev=0.01)),\n",
    "    'decoder_h1': tf.Variable(tf.truncated_normal([n_latent, n_hidden_2], stddev=0.01)),    \n",
    "    'decoder_h2': tf.Variable(tf.truncated_normal([n_hidden_2, n_hidden_1], stddev=0.01)),\n",
    "    'decoder_h3': tf.Variable(tf.truncated_normal([n_hidden_1, n_input], stddev=0.01))\n",
    "}\n",
    "biases = {\n",
    "    'encoder_b1': tf.Variable(tf.truncated_normal([n_hidden_1], stddev=0.01)),\n",
    "    'encoder_b2': tf.Variable(tf.truncated_normal([n_hidden_2], stddev=0.01)),\n",
    "    'hidden_mu' : tf.Variable(tf.truncated_normal([n_latent], stddev=0.01)),\n",
    "    'hidden_sig': tf.Variable(tf.truncated_normal([n_latent], stddev=0.01)),\n",
    "    'decoder_b1': tf.Variable(tf.truncated_normal([n_hidden_2], stddev=0.01)),\n",
    "    'decoder_b2': tf.Variable(tf.truncated_normal([n_hidden_1], stddev=0.01)),\n",
    "    'decoder_b3': tf.Variable(tf.truncated_normal([n_input], stddev=0.01))\n",
    "}\n",
    "\n",
    "# Building the encoder\n",
    "def encoder(x):\n",
    "    # Encoder Hidden layer with sigmoid activation #1\n",
    "    layer_1 = tf.nn.sigmoid(tf.add(tf.matmul(x, weights['encoder_h1']),\n",
    "                                   biases['encoder_b1']))\n",
    "    layer_2 = tf.nn.sigmoid(tf.add(tf.matmul(layer_1, weights['encoder_h2']),\n",
    "                                   biases['encoder_b2']))\n",
    "    return layer_2\n",
    "\n",
    "# Building the variational\n",
    "def variation(x):\n",
    "    mu = tf.add(tf.matmul(x, weights['hidden_mu']), biases['hidden_mu'])\n",
    "    sig = tf.add(tf.matmul(x, weights['hidden_sig']), biases['hidden_sig'])\n",
    "    \n",
    "    layer_mu = tf.nn.sigmoid(mu)\n",
    "    layer_sig = tf.nn.sigmoid(sig)\n",
    "    epsilon = tf.random_normal(tf.shape(layer_sig), stddev=0.01, name='epsilon')\n",
    "    layer_latent = tf.add(layer_mu, tf.mul(tf.exp(0.5*layer_sig), epsilon))\n",
    "\n",
    "    KLD = -0.5 * tf.reduce_sum(1+sig-tf.pow(mu, 2)-tf.exp(sig), reduction_indices=1)\n",
    "\n",
    "    return layer_latent, KLD, epsilon, layer_mu\n",
    "\n",
    "# Building the decoder\n",
    "def decoder(x):\n",
    "    # Encoder Hidden layer with sigmoid activation #1\n",
    "    layer_1 = tf.nn.sigmoid(tf.add(tf.matmul(x, weights['decoder_h1']),\n",
    "                                   biases['decoder_b1']))\n",
    "    layer_2 = tf.nn.sigmoid(tf.add(tf.matmul(layer_1, weights['decoder_h2']),\n",
    "                                   biases['decoder_b2']))\n",
    "    layer_3 = tf.nn.sigmoid(tf.add(tf.matmul(layer_2, weights['decoder_h3']),\n",
    "                                   biases['decoder_b3']))\n",
    "    return layer_3"
   ]
  },
  {
   "cell_type": "code",
   "execution_count": null,
   "metadata": {
    "collapsed": false
   },
   "outputs": [],
   "source": [
    "# Construct model\n",
    "encoder_op = encoder(X)\n",
    "variation_op, KLD, epsilon, layer_mu = variation(encoder_op)\n",
    "decoder_op = decoder(variation_op)\n",
    "\n",
    "# Prediction\n",
    "y_pred = decoder_op\n",
    "# Targets (Labels) are the input data.\n",
    "y_true = X\n",
    "\n",
    "# Define loss and optimizer\n",
    "l2_loss = tf.add_n([tf.nn.l2_loss(weights[w]) for w in weights])\n",
    "BCE = tf.reduce_sum(tf.nn.sigmoid_cross_entropy_with_logits(y_pred, y_true), reduction_indices=1)\n",
    "\n",
    "cost = tf.reduce_mean(BCE+KLD)+l2_lambda*l2_loss\n",
    "optimizer = tf.train.RMSPropOptimizer(learning_rate).minimize(cost)\n",
    "\n",
    "# Initializing the variables\n",
    "init = tf.global_variables_initializer()"
   ]
  },
  {
   "cell_type": "code",
   "execution_count": null,
   "metadata": {
    "collapsed": false
   },
   "outputs": [],
   "source": [
    "sess = tf.InteractiveSession()\n",
    "sess.run(init)\n",
    "total_batch = int(X_flat.shape[0]/batch_size)\n",
    "# Training cycle\n",
    "for epoch in range(training_epochs):\n",
    "    # Loop over all batches\n",
    "    start = 0; end = batch_size-1\n",
    "    for i in range(total_batch):\n",
    "        index = np.arange(start, end)\n",
    "        np.random.shuffle(index)\n",
    "        batch_xs = X_flat[index]\n",
    "        start = end+1; end = start+batch_size-1\n",
    "        # Run optimization op (backprop) and loss op (to get loss value)\n",
    "        _, c = sess.run([optimizer, cost], feed_dict={X: batch_xs})\n",
    "    # Display logs per epoch step\n",
    "    if ((epoch == 0) or (epoch+1) % display_step == 0) or ((epoch+1) == training_epochs):\n",
    "        print 'Epoch: {0:04d}   loss: {1:f}'.format(epoch+1, c)\n",
    "\n",
    "print(\"Optimization Finished!\")"
   ]
  },
  {
   "cell_type": "code",
   "execution_count": null,
   "metadata": {
    "collapsed": false
   },
   "outputs": [],
   "source": [
    "# Random select some pokemon to visualization\n",
    "# index are picked in orig_img.shape[0], then transform to X_flat with correspond RGB row\n",
    "index = np.random.randint(orig_img.shape[0], size=examples_to_show)\n",
    "index = np.concatenate((index, index+1, index+2))\n",
    "index = np.sort(index)\n",
    "autoencoder = sess.run(\n",
    "    y_pred, feed_dict={X: X_flat[index]})\n",
    "\n",
    "# merge RGB rows back to RGB matrix\n",
    "autoencoder = np.reshape(autoencoder, (examples_to_show, 3, 40, 40))\n",
    "autoencoder = np.transpose(autoencoder, (0,2,3,1))\n",
    "\n",
    "# Compare original images with their reconstructions\n",
    "f, a = plt.subplots(2, examples_to_show, figsize=(examples_to_show, 2))\n",
    "for i in range(examples_to_show):\n",
    "    a[0][i].imshow(orig_img[index[::3][i]])\n",
    "    a[0,i].axis('off')\n",
    "    a[1][i].imshow(autoencoder[i])\n",
    "    a[1,i].axis('off')\n",
    "f.show()\n",
    "plt.draw()"
   ]
  },
  {
   "cell_type": "code",
   "execution_count": null,
   "metadata": {
    "collapsed": true
   },
   "outputs": [],
   "source": []
  }
 ],
 "metadata": {
  "kernelspec": {
   "display_name": "Python 2",
   "language": "python",
   "name": "python2"
  },
  "language_info": {
   "codemirror_mode": {
    "name": "ipython",
    "version": 2
   },
   "file_extension": ".py",
   "mimetype": "text/x-python",
   "name": "python",
   "nbconvert_exporter": "python",
   "pygments_lexer": "ipython2",
   "version": "2.7.12"
  }
 },
 "nbformat": 4,
 "nbformat_minor": 2
}

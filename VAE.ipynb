{
 "cells": [
  {
   "cell_type": "code",
   "execution_count": 1,
   "metadata": {
    "collapsed": false,
    "deletable": true,
    "editable": true
   },
   "outputs": [],
   "source": [
    "import tensorflow as tf\n",
    "import numpy as np\n",
    "import glob\n",
    "import cv2\n",
    "import os\n",
    "import re\n",
    "import matplotlib\n",
    "matplotlib.use('TkAgg')\n",
    "import matplotlib.pyplot as plt\n",
    "import matplotlib.image as mpimg\n",
    "%matplotlib inline"
   ]
  },
  {
   "cell_type": "code",
   "execution_count": 2,
   "metadata": {
    "collapsed": true,
    "deletable": true,
    "editable": true
   },
   "outputs": [],
   "source": [
    "def plotPoke(x):\n",
    "    f, a = plt.subplots(2, 8, figsize=(13, 3))\n",
    "    for i in range(8):\n",
    "        a[0][i].imshow(x[i], cmap=plt.get_cmap('gray'))\n",
    "        a[0,i].axis('off')\n",
    "        a[1][i].imshow(x[i+8], cmap=plt.get_cmap('gray'))\n",
    "        a[1,i].axis('off')\n",
    "    f.show()\n",
    "    plt.draw()"
   ]
  },
  {
   "cell_type": "code",
   "execution_count": 3,
   "metadata": {
    "collapsed": false,
    "deletable": true,
    "editable": true
   },
   "outputs": [
    {
     "name": "stderr",
     "output_type": "stream",
     "text": [
      "/usr/local/lib/python2.7/site-packages/matplotlib/figure.py:402: UserWarning: matplotlib is currently using a non-GUI backend, so cannot show the figure\n",
      "  \"matplotlib is currently using a non-GUI backend, \"\n"
     ]
    },
    {
     "data": {
      "image/png": "[encoded data removed]",
      "text/plain": [
       "<matplotlib.figure.Figure at 0x11adbed50>"
      ]
     },
     "metadata": {},
     "output_type": "display_data"
    }
   ],
   "source": [
    "# Create an empty array to store pokemon pics\n",
    "orig_img = np.empty((0, 40, 40,3), dtype='float32')\n",
    "# Load all images and append into orig_img\n",
    "path = os.path.abspath(\"./VAE.ipynb\")\n",
    "path = re.sub('[a-zA-Z\\s._]+$', '', path)\n",
    "for pic in glob.glob(path+'Pokemon/*.png'):\n",
    "    img = mpimg.imread(pic)\n",
    "    # remove alpha channel  %some alpha=0 but RGB is not equal to [1., 1., 1.]\n",
    "    img[img[:,:,3]==0] = np.ones((1,4))\n",
    "    img = img[:,:,:3]\n",
    "    orig_img = np.append(orig_img, [img], axis=0)\n",
    "\n",
    "# Use plt to show original images \n",
    "plotPoke(orig_img)"
   ]
  },
  {
   "cell_type": "code",
   "execution_count": 4,
   "metadata": {
    "collapsed": false,
    "deletable": true,
    "editable": true
   },
   "outputs": [
    {
     "name": "stdout",
     "output_type": "stream",
     "text": [
      "Original image shape:  (792, 40, 40, 3)\n",
      "Flatted image shape:  (2376, 1600)\n"
     ]
    }
   ],
   "source": [
    "# Transpose RGB channels into 3 different independent image\n",
    "# Then flatted all pixel into one dimension\n",
    "X_flat = np.transpose(orig_img, (0,3,1,2))\n",
    "X_flat = X_flat.reshape(2376, 1600)\n",
    "\n",
    "print 'Original image shape:  {0}\\nFlatted image shape:  {1}'.format(orig_img.shape, X_flat.shape)"
   ]
  },
  {
   "cell_type": "code",
   "execution_count": 5,
   "metadata": {
    "collapsed": true,
    "deletable": true,
    "editable": true
   },
   "outputs": [],
   "source": [
    "# Parameters\n",
    "learning_rate = 0.005\n",
    "training_epochs = 8000\n",
    "batch_size = 24\n",
    "display_step = 200\n",
    "examples_to_show = 8\n",
    "l2_lambda = 0 # regularization weight\n",
    "\n",
    "# Network Parameters\n",
    "n_hidden_1 = 1024\n",
    "n_hidden_2 = 512\n",
    "n_latent = 256\n",
    "n_input = 1600 # Pokemon input (img shape: 40*40)"
   ]
  },
  {
   "cell_type": "code",
   "execution_count": 48,
   "metadata": {
    "collapsed": true,
    "deletable": true,
    "editable": true
   },
   "outputs": [],
   "source": [
    "# tf Graph input (only pictures)\n",
    "X = tf.placeholder(\"float\", [None, n_input])\n",
    "\n",
    "weights = {\n",
    "    'encoder_h1': tf.Variable(tf.truncated_normal([n_input, n_hidden_1], stddev=0.01)),\n",
    "    'encoder_h2': tf.Variable(tf.truncated_normal([n_hidden_1, n_hidden_2], stddev=0.01)),\n",
    "    'hidden_mu' : tf.Variable(tf.truncated_normal([n_hidden_2, n_latent], stddev=0.01)),\n",
    "    'hidden_sig': tf.Variable(tf.truncated_normal([n_hidden_2, n_latent], stddev=0.01)),\n",
    "    'decoder_h1': tf.Variable(tf.truncated_normal([n_latent, n_hidden_2], stddev=0.01)),    \n",
    "    'decoder_h2': tf.Variable(tf.truncated_normal([n_hidden_2, n_hidden_1], stddev=0.01)),\n",
    "    'decoder_h3': tf.Variable(tf.truncated_normal([n_hidden_1, n_input], stddev=0.01))\n",
    "}\n",
    "biases = {\n",
    "    'encoder_b1': tf.Variable(tf.truncated_normal([n_hidden_1], stddev=0.01)),\n",
    "    'encoder_b2': tf.Variable(tf.truncated_normal([n_hidden_2], stddev=0.01)),\n",
    "    'hidden_mu' : tf.Variable(tf.truncated_normal([n_latent], stddev=0.01)),\n",
    "    'hidden_sig': tf.Variable(tf.truncated_normal([n_latent], stddev=0.01)),\n",
    "    'decoder_b1': tf.Variable(tf.truncated_normal([n_hidden_2], stddev=0.01)),\n",
    "    'decoder_b2': tf.Variable(tf.truncated_normal([n_hidden_1], stddev=0.01)),\n",
    "    'decoder_b3': tf.Variable(tf.truncated_normal([n_input], stddev=0.01))\n",
    "}\n",
    "\n",
    "# Building the encoder\n",
    "def encoder(x):\n",
    "    # Encoder Hidden layer with sigmoid activation #1\n",
    "    layer_1 = tf.nn.sigmoid(tf.add(tf.matmul(x, weights['encoder_h1']),\n",
    "                                   biases['encoder_b1']))\n",
    "    layer_2 = tf.nn.sigmoid(tf.add(tf.matmul(layer_1, weights['encoder_h2']),\n",
    "                                   biases['encoder_b2']))\n",
    "    return layer_2\n",
    "\n",
    "# Building the variational\n",
    "def variation(x):\n",
    "    mu = tf.add(tf.matmul(x, weights['hidden_mu']), biases['hidden_mu'])\n",
    "    sig = tf.add(tf.matmul(x, weights['hidden_sig']), biases['hidden_sig'])\n",
    "    \n",
    "    layer_mu = tf.nn.sigmoid(mu)\n",
    "    layer_sig = tf.nn.sigmoid(sig)\n",
    "    epsilon = tf.random_normal(tf.shape(layer_sig), stddev=0.001, name='epsilon')\n",
    "    layer_latent = tf.add(layer_mu, tf.multiply(tf.exp(0.5*layer_sig), epsilon))\n",
    "\n",
    "    KLD = -0.5 * tf.reduce_sum(1+sig-tf.pow(mu, 2)-tf.exp(sig), reduction_indices=1)\n",
    "\n",
    "    return layer_latent, KLD, epsilon, layer_mu\n",
    "\n",
    "# Building the decoder\n",
    "def decoder(x):\n",
    "    # Encoder Hidden layer with sigmoid activation #1\n",
    "    layer_1 = tf.nn.sigmoid(tf.add(tf.matmul(x, weights['decoder_h1']),\n",
    "                                   biases['decoder_b1']))\n",
    "    layer_2 = tf.nn.sigmoid(tf.add(tf.matmul(layer_1, weights['decoder_h2']),\n",
    "                                   biases['decoder_b2']))\n",
    "    layer_3 = tf.nn.relu(tf.add(tf.matmul(layer_2, weights['decoder_h3']),\n",
    "                                   biases['decoder_b3']))\n",
    "    return layer_3"
   ]
  },
  {
   "cell_type": "code",
   "execution_count": 49,
   "metadata": {
    "collapsed": false,
    "deletable": true,
    "editable": true
   },
   "outputs": [],
   "source": [
    "# Construct model\n",
    "encoder_op = encoder(X)\n",
    "variation_op, KLD, epsilon, layer_mu = variation(encoder_op)\n",
    "decoder_op = decoder(variation_op)\n",
    "\n",
    "# Prediction\n",
    "y_pred = decoder_op\n",
    "# Targets (Labels) are the input data.\n",
    "y_true = X\n",
    "\n",
    "# Define loss and optimizer\n",
    "l2_loss = tf.add_n([tf.nn.l2_loss(weights[w]) for w in weights])\n",
    "BCE = tf.reduce_sum(tf.nn.sigmoid_cross_entropy_with_logits(logits=y_pred, labels=y_true), reduction_indices=1)\n",
    "\n",
    "cost = tf.reduce_mean(BCE+KLD)+l2_lambda*l2_loss\n",
    "optimizer = tf.train.RMSPropOptimizer(learning_rate).minimize(cost)"
   ]
  },
  {
   "cell_type": "code",
   "execution_count": 50,
   "metadata": {
    "collapsed": true,
    "deletable": true,
    "editable": true
   },
   "outputs": [],
   "source": [
    "# Initializing the variables\n",
    "init = tf.global_variables_initializer()\n",
    "\n",
    "# Create session and graph, initial variables\n",
    "sess = tf.InteractiveSession()\n",
    "sess.run(init)"
   ]
  },
  {
   "cell_type": "code",
   "execution_count": null,
   "metadata": {
    "collapsed": true,
    "deletable": true,
    "editable": true
   },
   "outputs": [],
   "source": [
    "# Load previous trained model and rewrite to variables, if exists\n",
    "# Before run this cell, you have to run the cell above first, to define variables and init it.\n",
    "weightSaver = tf.train.Saver(var_list=weights)\n",
    "biaseSaver = tf.train.Saver(var_list=biases)\n",
    "\n",
    "weightSaver.restore(sess, \"./saved_model/VAE_weights.ckpt\")\n",
    "biaseSaver.restore(sess, \"./saved_model/VAE_biases.ckpt\")\n",
    "\n",
    "print \"Model restored.\""
   ]
  },
  {
   "cell_type": "code",
   "execution_count": 51,
   "metadata": {
    "collapsed": false,
    "deletable": true,
    "editable": true
   },
   "outputs": [
    {
     "name": "stdout",
     "output_type": "stream",
     "text": [
      "Epoch: 0001   loss: 583.835754\n",
      "Epoch: 0020   loss: 426.916992\n",
      "Epoch: 0040   loss: 391.299438\n",
      "Epoch: 0060   loss: 375.070099\n",
      "Epoch: 0080   loss: 369.214874\n",
      "Epoch: 0100   loss: 362.746582\n",
      "Optimization Finished!\n"
     ]
    }
   ],
   "source": [
    "total_batch = int(X_flat.shape[0]/batch_size)\n",
    "# Training cycle\n",
    "for epoch in range(training_epochs):\n",
    "    # Loop over all batches\n",
    "    start = 0; end = batch_size\n",
    "    for i in range(total_batch-1):\n",
    "        index = np.arange(start, end)\n",
    "        np.random.shuffle(index)\n",
    "        batch_xs = X_flat[index]\n",
    "        start = end; end = start+batch_size\n",
    "        # Run optimization op (backprop) and loss op (to get loss value)\n",
    "        _, c = sess.run([optimizer, cost], feed_dict={X: batch_xs})\n",
    "    # Display logs per epoch step\n",
    "    if ((epoch == 0) or (epoch+1) % display_step == 0) or ((epoch+1) == training_epochs):\n",
    "        print 'Epoch: {0:04d}   loss: {1:f}'.format(epoch+1, c)\n",
    "\n",
    "print(\"Optimization Finished!\")"
   ]
  },
  {
   "cell_type": "code",
   "execution_count": 55,
   "metadata": {
    "collapsed": false,
    "deletable": true,
    "editable": true
   },
   "outputs": [
    {
     "data": {
      "image/png": "[encoded data removed]",
      "text/plain": [
       "<matplotlib.figure.Figure at 0x1241c16d0>"
      ]
     },
     "metadata": {},
     "output_type": "display_data"
    }
   ],
   "source": [
    "# Random select some pokemon to visualization\n",
    "# index are picked in orig_img.shape[0], then transform to X_flat with correspond RGB row\n",
    "index = np.random.randint(orig_img.shape[0], size=examples_to_show)\n",
    "index = np.concatenate((index, index+1, index+2))\n",
    "index = np.sort(index)\n",
    "autoencoder = sess.run(\n",
    "    y_pred, feed_dict={X: X_flat[index]})\n",
    "\n",
    "# merge RGB rows back to RGB matrix\n",
    "autoencoder = np.reshape(autoencoder, (examples_to_show, 3, 40, 40))\n",
    "autoencoder = np.transpose(autoencoder, (0,2,3,1))\n",
    "\n",
    "# Compare original images with their reconstructions\n",
    "f, a = plt.subplots(2, examples_to_show, figsize=(15, 3))\n",
    "for i in range(examples_to_show):\n",
    "    a[0][i].imshow(orig_img[index[::3][i]])\n",
    "    a[0,i].axis('off')\n",
    "    a[1][i].imshow(autoencoder[i])\n",
    "    a[1,i].axis('off')\n",
    "f.show()\n",
    "plt.draw()"
   ]
  },
  {
   "cell_type": "code",
   "execution_count": null,
   "metadata": {
    "collapsed": true,
    "deletable": true,
    "editable": true
   },
   "outputs": [],
   "source": [
    "# Save trained Variables \n",
    "weightSaver = tf.train.Saver(var_list=weights)\n",
    "biaseSaver = tf.train.Saver(var_list=biases)\n",
    "save_path = weightSaver.save(sess, \"./saved_model/VAE_weights.ckpt\")\n",
    "save_path = biaseSaver.save(sess, \"./saved_model/VAE_biases.ckpt\")"
   ]
  },
  {
   "cell_type": "code",
   "execution_count": null,
   "metadata": {
    "collapsed": true,
    "deletable": true,
    "editable": true
   },
   "outputs": [],
   "source": []
  }
 ],
 "metadata": {
  "kernelspec": {
   "display_name": "Python 2",
   "language": "python",
   "name": "python2"
  },
  "language_info": {
   "codemirror_mode": {
    "name": "ipython",
    "version": 2
   },
   "file_extension": ".py",
   "mimetype": "text/x-python",
   "name": "python",
   "nbconvert_exporter": "python",
   "pygments_lexer": "ipython2",
   "version": "2.7.12"
  }
 },
 "nbformat": 4,
 "nbformat_minor": 2
}

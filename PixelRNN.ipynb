{
 "cells": [
  {
   "cell_type": "code",
   "execution_count": 1,
   "metadata": {
    "collapsed": false,
    "deletable": true,
    "editable": true
   },
   "outputs": [],
   "source": [
    "import tensorflow as tf\n",
    "from tensorflow.python.ops import rnn, rnn_cell\n",
    "import numpy as np\n",
    "import glob\n",
    "import os\n",
    "import re\n",
    "import matplotlib\n",
    "matplotlib.use('TkAgg')\n",
    "import matplotlib.pyplot as plt\n",
    "import matplotlib.image as mpimg\n",
    "%matplotlib inline"
   ]
  },
  {
   "cell_type": "code",
   "execution_count": 2,
   "metadata": {
    "collapsed": true,
    "deletable": true,
    "editable": true
   },
   "outputs": [],
   "source": [
    "def plotPoke(x, n_row=10):\n",
    "    f, a = plt.subplots(2, n_row, figsize=(n_row, 2))\n",
    "    for i in range(n_row):\n",
    "        a[0][i].imshow(x[i])\n",
    "        a[0,i].axis('off')\n",
    "        a[1][i].imshow(x[i+n_row])\n",
    "        a[1,i].axis('off')\n",
    "    f.show()\n",
    "    plt.draw()"
   ]
  },
  {
   "cell_type": "code",
   "execution_count": 3,
   "metadata": {
    "collapsed": false,
    "deletable": true,
    "editable": true
   },
   "outputs": [
    {
     "name": "stderr",
     "output_type": "stream",
     "text": [
      "/usr/local/lib/python2.7/site-packages/matplotlib/figure.py:402: UserWarning: matplotlib is currently using a non-GUI backend, so cannot show the figure\n",
      "  \"matplotlib is currently using a non-GUI backend, \"\n"
     ]
    },
    {
     "data": {
      "image/png": "[encoded data removed]",
      "text/plain": [
       "<matplotlib.figure.Figure at 0x10c3c0bd0>"
      ]
     },
     "metadata": {},
     "output_type": "display_data"
    }
   ],
   "source": [
    "# Create an empty array to store pokemon pics\n",
    "orig_img = np.empty((0, 40, 40, 3), dtype='uint8')\n",
    "# Load all images and append into orig_img\n",
    "path = os.path.abspath(\"./PixelRNN.ipynb\")\n",
    "path = re.sub('[a-zA-Z\\s.]+$', '', path)\n",
    "for pic in glob.glob(path+'Pokemon/*.png'):\n",
    "    img = mpimg.imread(pic)\n",
    "    # remove alpha channel  %some alpha=0 but RGB is not equal to [1., 1., 1.]\n",
    "    img[img[:,:,3]==0] = np.ones((1,4))\n",
    "    img = img[:,:,0:3]\n",
    "    orig_img = np.append(orig_img, [img], axis=0)\n",
    "\n",
    "# Use plt to show original images \n",
    "plotPoke(orig_img)"
   ]
  },
  {
   "cell_type": "code",
   "execution_count": 4,
   "metadata": {
    "collapsed": false,
    "deletable": true,
    "editable": true
   },
   "outputs": [],
   "source": [
    "# Parameters\n",
    "learning_rate = 0.002\n",
    "training_epochs = 100\n",
    "batch_size = 12\n",
    "display_step = 5\n",
    "examples_to_show = 10\n",
    "\n",
    "# Network Parameters\n",
    "n_input = 120 # Pokemon data input (img shape: 40x3)\n",
    "n_steps = 20 # timesteps (20 rows)\n",
    "n_hidden = 256 # hidden layer num of features\n",
    "\n",
    "# tf Graph input\n",
    "X = tf.placeholder(\"float\", [None, n_steps, n_input])\n",
    "Y = tf.placeholder(\"float\", [None, n_input])\n",
    "\n",
    "# Define weights\n",
    "weights = {\n",
    "    'out': tf.Variable(tf.truncated_normal([n_hidden, n_input], stddev=0.01))\n",
    "}\n",
    "biases = {\n",
    "    'out': tf.Variable(tf.truncated_normal([n_input], stddev=0.01))\n",
    "}"
   ]
  },
  {
   "cell_type": "code",
   "execution_count": 5,
   "metadata": {
    "collapsed": false,
    "deletable": true,
    "editable": true
   },
   "outputs": [],
   "source": [
    "def RNN(x, weights, biases):\n",
    "    # Prepare data shape to match `rnn` function requirements\n",
    "    # Current data input shape: (batch_size, n_steps, n_input)\n",
    "    # Required shape: 'n_steps' tensors list of shape (batch_size, n_input)\n",
    "    \n",
    "    # Permuting batch_size and n_steps (n_step, batch_size, n_input)\n",
    "    x = tf.transpose(x, [1, 0, 2])\n",
    "    # Reshaping to (n_steps*batch_size, n_input)\n",
    "    x = tf.reshape(x, [-1, n_input])\n",
    "    # Split to get a list of 'n_steps' tensors of shape (batch_size, n_input)\n",
    "    x = tf.split(0, n_steps, x)\n",
    "\n",
    "    # Define a lstm cell with tensorflow\n",
    "    lstm_cell = rnn_cell.BasicLSTMCell(n_hidden, forget_bias=0.1)\n",
    "\n",
    "    # Get lstm cell output\n",
    "    outputs, states = rnn.rnn(lstm_cell, x, dtype=tf.float32)\n",
    "\n",
    "    # Linear activation, using rnn inner loop last output\n",
    "    return tf.matmul(outputs[-1], weights['out']) + biases['out']\n",
    "\n",
    "pred = RNN(X, weights, biases)\n",
    "true = Y\n",
    "# Define loss and optimizer\n",
    "cost = tf.sqrt(tf.reduce_mean(tf.pow(true - pred, 2)))\n",
    "optimizer = tf.train.AdamOptimizer(learning_rate=learning_rate).minimize(cost)"
   ]
  },
  {
   "cell_type": "code",
   "execution_count": 6,
   "metadata": {
    "collapsed": true,
    "deletable": true,
    "editable": true
   },
   "outputs": [],
   "source": [
    "# Initializing the variables\n",
    "init = tf.global_variables_initializer()\n",
    "\n",
    "# Create session and graph, initial variables\n",
    "sess = tf.InteractiveSession()\n",
    "sess.run(init)"
   ]
  },
  {
   "cell_type": "code",
   "execution_count": null,
   "metadata": {
    "collapsed": true
   },
   "outputs": [],
   "source": [
    "# Load previous trained model and rewrite to variables, if exists\n",
    "# Before run this cell, you have to run the cell above first, to define variables and init it.\n",
    "weightSaver = tf.train.Saver(var_list=weights)\n",
    "biaseSaver = tf.train.Saver(var_list=biases)\n",
    "\n",
    "weightSaver.restore(sess, \"./saved_model/RNN_weights.ckpt\")\n",
    "biaseSaver.restore(sess, \"./saved_model/RNN_biases.ckpt\")\n",
    "\n",
    "print \"Model restored.\""
   ]
  },
  {
   "cell_type": "code",
   "execution_count": 7,
   "metadata": {
    "collapsed": false,
    "deletable": true,
    "editable": true
   },
   "outputs": [
    {
     "name": "stdout",
     "output_type": "stream",
     "text": [
      "Epoch: 0001   loss: 0.040394\n",
      "Epoch: 0005   loss: 0.027164\n",
      "Epoch: 0010   loss: 0.014897\n",
      "Epoch: 0015   loss: 0.011258\n",
      "Epoch: 0020   loss: 0.019395\n",
      "Epoch: 0025   loss: 0.015445\n",
      "Epoch: 0030   loss: 0.011756\n",
      "Epoch: 0035   loss: 0.009640\n",
      "Epoch: 0040   loss: 0.010345\n",
      "Epoch: 0045   loss: 0.007556\n",
      "Epoch: 0050   loss: 0.008822\n",
      "Epoch: 0055   loss: 0.006788\n",
      "Epoch: 0060   loss: 0.007131\n",
      "Epoch: 0065   loss: 0.008951\n",
      "Epoch: 0070   loss: 0.008292\n",
      "Epoch: 0075   loss: 0.008281\n",
      "Epoch: 0080   loss: 0.007700\n",
      "Epoch: 0085   loss: 0.007251\n",
      "Epoch: 0090   loss: 0.006617\n",
      "Epoch: 0095   loss: 0.007439\n",
      "Epoch: 0100   loss: 0.007849\n",
      "Optimization Finished!\n"
     ]
    }
   ],
   "source": [
    "total_batch = int(orig_img.shape[0]/batch_size)\n",
    "# Training cycle\n",
    "for epoch in xrange(training_epochs):\n",
    "    # Loop over all batches\n",
    "    start = 0; end = batch_size\n",
    "    for i in range(total_batch-1):\n",
    "        index = np.arange(start, end)\n",
    "        np.random.shuffle(index)\n",
    "        for row in xrange(n_input/3-n_steps):\n",
    "            # Run optimization op (backprop) and loss op (to get loss value)\n",
    "            startIndex = row\n",
    "            endIndex = row+n_steps\n",
    "            batch_x = orig_img[index,startIndex:endIndex,:,:].reshape((batch_size, n_steps, n_input))\n",
    "            batch_y = orig_img[index,endIndex,:,:].reshape((batch_size, n_input))\n",
    "            \n",
    "            # Run optimization op (backprop) and loss op (to get loss value)\n",
    "            sess.run(optimizer, feed_dict={X: batch_x, Y: batch_y})\n",
    "            loss = sess.run(cost, feed_dict={X: batch_x, Y: batch_y})\n",
    "        start = end; end = start+batch_size\n",
    "    # Display logs per epoch step\n",
    "    if ((epoch == 0) or (epoch+1) % display_step == 0) or ((epoch+1) == training_epochs):\n",
    "        print 'Epoch: {0:04d}   loss: {1:f}'.format(epoch+1, loss)\n",
    "\n",
    "print(\"Optimization Finished!\")"
   ]
  },
  {
   "cell_type": "code",
   "execution_count": 8,
   "metadata": {
    "collapsed": false,
    "deletable": true,
    "editable": true
   },
   "outputs": [
    {
     "data": {
      "image/png": "[encoded data removed]",
      "text/plain": [
       "<matplotlib.figure.Figure at 0x116d3bb50>"
      ]
     },
     "metadata": {},
     "output_type": "display_data"
    }
   ],
   "source": [
    "index = np.random.randint(orig_img.shape[0], size=examples_to_show)\n",
    "fakePoke = orig_img[index,:n_steps,:,:]\n",
    "for i in xrange(n_input/3-n_steps+1):\n",
    "    startIndex = i\n",
    "    endIndex = i+n_steps\n",
    "    train = fakePoke[:,startIndex:endIndex,:,:].reshape((examples_to_show, n_steps, n_input))\n",
    "\n",
    "    PixelRNN = sess.run(pred, feed_dict={X: train})\n",
    "    PixelRNN = PixelRNN.reshape((examples_to_show,1,40,3))\n",
    "    train = train.reshape((examples_to_show, -1, 40, 3))\n",
    "    fakePoke = np.concatenate((fakePoke, PixelRNN), axis=1)\n",
    "\n",
    "# Compare original images with their reconstructions\n",
    "f, a = plt.subplots(2, examples_to_show, figsize=(examples_to_show, 2))\n",
    "for i in range(examples_to_show):\n",
    "    a[0][i].imshow(orig_img[index[i]])\n",
    "    a[0,i].axis('off')\n",
    "    a[1][i].imshow(fakePoke[i])\n",
    "    a[1,i].axis('off')\n",
    "f.show()\n",
    "plt.draw()"
   ]
  },
  {
   "cell_type": "code",
   "execution_count": 9,
   "metadata": {
    "collapsed": false
   },
   "outputs": [],
   "source": [
    "# Save trained Variables \n",
    "weightSaver = tf.train.Saver(var_list=weights)\n",
    "biaseSaver = tf.train.Saver(var_list=biases)\n",
    "save_path = weightSaver.save(sess, \"./saved_model/RNN_weights.ckpt\")\n",
    "save_path = biaseSaver.save(sess, \"./saved_model/RNN_biases.ckpt\")"
   ]
  },
  {
   "cell_type": "code",
   "execution_count": null,
   "metadata": {
    "collapsed": true
   },
   "outputs": [],
   "source": []
  },
  {
   "cell_type": "code",
   "execution_count": null,
   "metadata": {
    "collapsed": true
   },
   "outputs": [],
   "source": []
  }
 ],
 "metadata": {
  "kernelspec": {
   "display_name": "Python 2",
   "language": "python",
   "name": "python2"
  },
  "language_info": {
   "codemirror_mode": {
    "name": "ipython",
    "version": 2
   },
   "file_extension": ".py",
   "mimetype": "text/x-python",
   "name": "python",
   "nbconvert_exporter": "python",
   "pygments_lexer": "ipython2",
   "version": "2.7.12"
  }
 },
 "nbformat": 4,
 "nbformat_minor": 1
}

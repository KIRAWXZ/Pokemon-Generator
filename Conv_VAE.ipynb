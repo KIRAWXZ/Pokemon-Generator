{
 "cells": [
  {
   "cell_type": "code",
   "execution_count": 1,
   "metadata": {
    "collapsed": true,
    "deletable": true,
    "editable": true
   },
   "outputs": [],
   "source": [
    "import tensorflow as tf\n",
    "import numpy as np\n",
    "import glob\n",
    "import os\n",
    "import re\n",
    "import matplotlib\n",
    "matplotlib.use('TkAgg')\n",
    "import matplotlib.pyplot as plt\n",
    "import matplotlib.image as mpimg\n",
    "%matplotlib inline"
   ]
  },
  {
   "cell_type": "code",
   "execution_count": 2,
   "metadata": {
    "collapsed": true,
    "deletable": true,
    "editable": true
   },
   "outputs": [],
   "source": [
    "def plotPoke(x, n_row=10):\n",
    "    f, a = plt.subplots(2, n_row, figsize=(n_row, 2))\n",
    "    for i in range(n_row):\n",
    "        a[0][i].imshow(x[i])\n",
    "        a[0,i].axis('off')\n",
    "        a[1][i].imshow(x[i+n_row])\n",
    "        a[1,i].axis('off')\n",
    "    f.show()\n",
    "    plt.draw()"
   ]
  },
  {
   "cell_type": "code",
   "execution_count": 3,
   "metadata": {
    "collapsed": false,
    "deletable": true,
    "editable": true
   },
   "outputs": [
    {
     "name": "stdout",
     "output_type": "stream",
     "text": [
      "Input data shape: (792, 40, 40, 3)\n"
     ]
    },
    {
     "name": "stderr",
     "output_type": "stream",
     "text": [
      "/usr/local/lib/python2.7/dist-packages/matplotlib/figure.py:402: UserWarning: matplotlib is currently using a non-GUI backend, so cannot show the figure\n",
      "  \"matplotlib is currently using a non-GUI backend, \"\n"
     ]
    },
    {
     "data": {
      "image/png": "[encoded data removed]",
      "text/plain": [
       "<matplotlib.figure.Figure at 0x7f0da4140e50>"
      ]
     },
     "metadata": {},
     "output_type": "display_data"
    }
   ],
   "source": [
    "# Create an empty array to store pokemon pics\n",
    "orig_img = np.empty((0, 40, 40, 3), dtype='float32')\n",
    "# Load all images and append into orig_img\n",
    "path = os.path.abspath(\"./AE_RGB.ipynb\")\n",
    "path = re.sub('[a-zA-Z\\s._]+$', '', path)\n",
    "for pic in glob.glob(path+'Pokemon/*.png'):\n",
    "    img = mpimg.imread(pic)\n",
    "    # remove alpha channel  %some alpha=0 but RGB is not equal to [1., 1., 1.]\n",
    "    img[img[:,:,3]==0] = np.ones((1,4))\n",
    "    img = img[:,:,0:3]\n",
    "    orig_img = np.append(orig_img, [img], axis=0)\n",
    "\n",
    "# Use plt to show original images \n",
    "print 'Input data shape: {}'.format(orig_img.shape)\n",
    "plotPoke(orig_img)"
   ]
  },
  {
   "cell_type": "code",
   "execution_count": 192,
   "metadata": {
    "collapsed": true,
    "deletable": true,
    "editable": true
   },
   "outputs": [],
   "source": [
    "# Parameters\n",
    "learning_rate = 0.001\n",
    "training_epochs = 100\n",
    "batch_size = 24\n",
    "display_step = 5\n",
    "examples_to_show = 10\n",
    "l2_lambda = 0.01 # regularization weight\n",
    "\n",
    "# Network Parameters\n",
    "n_input = [40, 40, 3] # Pokemon data input (img shape: 40*40*3)\n",
    "n_channel1 = 16\n",
    "n_latent = 32\n",
    "\n",
    "# tf Graph input\n",
    "X = tf.placeholder(tf.float32, [None]+n_input)"
   ]
  },
  {
   "cell_type": "code",
   "execution_count": 201,
   "metadata": {
    "collapsed": true,
    "deletable": true,
    "editable": true
   },
   "outputs": [],
   "source": [
    "# Store layers weights & biases\n",
    "weights = {\n",
    "    # 5x5 conv, 3 inputs, 16 outputs\n",
    "    'encoder_h1': tf.Variable(tf.truncated_normal([5, 5, 3, n_channel1], stddev=0.01)),\n",
    "    \n",
    "    # 5x5 conv, 16 inputs, 32 outputs\n",
    "    'latent_mu' : tf.Variable(tf.truncated_normal([5, 5, n_channel1, n_latent], stddev=0.01)),\n",
    "    'latent_sig': tf.Variable(tf.truncated_normal([5, 5, n_channel1, n_latent], stddev=0.01)),\n",
    "    \n",
    "    # 5x5 conv, 32 inputs, 16 outputs\n",
    "    'decoder_h1': tf.Variable(tf.truncated_normal([5, 5, n_channel1, n_latent], stddev=0.01)),\n",
    "    # 5x5 conv, 16 inputs, 3 outputs\n",
    "    'decoder_h2': tf.Variable(tf.truncated_normal([5, 5, 3, n_channel1], stddev=0.01))\n",
    "}\n",
    "\n",
    "biases = {\n",
    "    'encoder_h1': tf.Variable(tf.truncated_normal([n_channel1], stddev=0.01)),\n",
    "    'latent_mu' : tf.Variable(tf.truncated_normal([n_latent], stddev=0.01)),\n",
    "    'latent_sig': tf.Variable(tf.truncated_normal([n_latent], stddev=0.01)),\n",
    "    'decoder_h1': tf.Variable(tf.truncated_normal([n_channel1], stddev=0.01)),\n",
    "    'decoder_h2': tf.Variable(tf.truncated_normal([3], stddev=0.01)),\n",
    "}"
   ]
  },
  {
   "cell_type": "code",
   "execution_count": 202,
   "metadata": {
    "collapsed": true,
    "deletable": true,
    "editable": true
   },
   "outputs": [],
   "source": [
    "# Create some wrappers for simplicity\n",
    "def conv2d(x, W, b, strides=1):\n",
    "    # Conv2D wrapper, with bias and relu activation\n",
    "    x = tf.nn.conv2d(x, W, strides=[1, strides, strides, 1], padding='SAME')\n",
    "    return tf.nn.bias_add(x, b)\n",
    "\n",
    "def deconv2d(x, W, b, out_shape, strides=1):\n",
    "    x = tf.nn.conv2d_transpose(x, W, out_shape, strides=[1, strides, strides, 1], \n",
    "                               padding='SAME')\n",
    "    return tf.nn.bias_add(x, b)\n",
    "    \n",
    "def maxPool(x, size=2, stride=2):\n",
    "    _, argmax = tf.nn.max_pool_with_argmax(x, ksize=[1,size,size,1], strides=[1,stride,stride,1], padding = 'SAME')\n",
    "    pool = tf.nn.max_pool(x, ksize = [1, size, size, 1], strides = [1, stride, stride, 1], padding = 'SAME')\n",
    "    return pool, argmax\n",
    "\n",
    "def unMaxPool(x, shape, size=2):\n",
    "    inference = tf.image.resize_nearest_neighbor(x, size=tf.stack([shape[1]*size, shape[2]*size]))\n",
    "    return inference\n",
    "\n",
    "# Define leaky rectified linear unit (ReLu)\n",
    "def lrelu(x, leak=0.2, name=\"lrelu\"):\n",
    "    with tf.variable_scope(name):\n",
    "        f1 = 0.5 * (1 + leak)\n",
    "        f2 = 0.5 * (1 - leak)\n",
    "        return f1 * x + f2 * abs(x)"
   ]
  },
  {
   "cell_type": "code",
   "execution_count": 213,
   "metadata": {
    "collapsed": true,
    "deletable": true,
    "editable": true
   },
   "outputs": [],
   "source": [
    "# Create model\n",
    "def conv_vae(x, weights=weights, biases=biases):\n",
    "    # Convolution Layer and Max Pool Layer\n",
    "    conv1 = conv2d(x, weights['encoder_h1'], biases['encoder_h1'])\n",
    "    conv1 = tf.nn.tanh(conv1)\n",
    "    maxpool1, _ = maxPool(conv1)\n",
    "\n",
    "    # Latent Layer\n",
    "    mu = conv2d(maxpool1, weights['latent_mu'], biases['latent_mu'])\n",
    "    layer_mu = tf.nn.tanh(mu)\n",
    "    sig = conv2d(maxpool1, weights['latent_sig'], biases['latent_sig'])\n",
    "    layer_sig = tf.nn.tanh(sig)\n",
    "    KLD = -0.5 * tf.reduce_sum(1+sig-tf.pow(mu, 2)-tf.exp(sig), reduction_indices=(1,2,3))\n",
    "    \n",
    "    epsilon = tf.random_normal(tf.shape(layer_sig), stddev=0.003, name='epsilon')\n",
    "    layer_latent = tf.add(layer_mu, tf.multiply(tf.exp(0.5*layer_sig), epsilon))\n",
    "    maxpool_latent, _ = maxPool(layer_latent)\n",
    "\n",
    "    # Transpose Convolution Layer and Unmax Pool Layer\n",
    "    out_dim1 = tf.stack([tf.shape(x)[0], 10, 10, n_channel1])\n",
    "    deconv1 = deconv2d(maxpool_latent, weights['decoder_h1'], biases['decoder_h1'], out_dim1)\n",
    "    deconv1 = tf.nn.sigmoid(deconv1)\n",
    "    unpool1 = unMaxPool(deconv1, out_dim1)\n",
    "    \n",
    "    # Transpose Convolution Layer and Unmax Pool Layer\n",
    "    out_dim2 = tf.stack([tf.shape(x)[0], 20, 20 ,3])\n",
    "    deconv2 = deconv2d(unpool1, weights['decoder_h2'], biases['decoder_h2'], out_dim2)\n",
    "    deconv2 = tf.nn.sigmoid(deconv2)\n",
    "    unpool2 = unMaxPool(deconv2, out_dim2)\n",
    "\n",
    "    return unpool2, KLD"
   ]
  },
  {
   "cell_type": "code",
   "execution_count": 214,
   "metadata": {
    "collapsed": false,
    "deletable": true,
    "editable": true
   },
   "outputs": [],
   "source": [
    "# Prediction\n",
    "y_pred, KLD = conv_vae(X)\n",
    "# Targets (Labels) are the input data.\n",
    "y_true = X\n",
    "\n",
    "# Define loss and optimizer\n",
    "l2_loss = tf.add_n([tf.nn.l2_loss(weights[w]) for w in weights])\n",
    "BCE = tf.reduce_mean(tf.pow(y_pred - y_true, 2))\n",
    "\n",
    "cost = tf.reduce_mean(BCE+KLD)+l2_lambda*l2_loss\n",
    "optimizer = tf.train.RMSPropOptimizer(learning_rate).minimize(cost)"
   ]
  },
  {
   "cell_type": "code",
   "execution_count": 215,
   "metadata": {
    "collapsed": true,
    "deletable": true,
    "editable": true
   },
   "outputs": [],
   "source": [
    "# Initializing the variables\n",
    "init = tf.global_variables_initializer()\n",
    "\n",
    "# Create session and graph, initial variables\n",
    "sess = tf.InteractiveSession()\n",
    "sess.run(init)"
   ]
  },
  {
   "cell_type": "code",
   "execution_count": null,
   "metadata": {
    "collapsed": false,
    "deletable": true,
    "editable": true
   },
   "outputs": [],
   "source": [
    "# Load previous trained model and rewrite to variables, if exists\n",
    "# Before run this cell, you have to run the cell above first, to define variables and init it.\n",
    "weightSaver = tf.train.Saver(var_list=weights)\n",
    "biaseSaver = tf.train.Saver(var_list=biases)\n",
    "\n",
    "weightSaver.restore(sess, \"./saved_model/ConvVAE_weights.ckpt\")\n",
    "biaseSaver.restore(sess, \"./saved_model/ConvVAE_biases.ckpt\")\n",
    "\n",
    "print \"Model restored.\""
   ]
  },
  {
   "cell_type": "code",
   "execution_count": 216,
   "metadata": {
    "collapsed": false,
    "deletable": true,
    "editable": true,
    "scrolled": false
   },
   "outputs": [
    {
     "name": "stdout",
     "output_type": "stream",
     "text": [
      "Epoch: 0001   loss: 0.442641\n",
      "Epoch: 0005   loss: 0.093823\n",
      "Epoch: 0010   loss: 0.465011\n",
      "Epoch: 0015   loss: 0.175410\n",
      "Epoch: 0020   loss: 0.337159\n",
      "Epoch: 0025   loss: 0.413524\n",
      "Epoch: 0030   loss: 0.072828\n",
      "Epoch: 0035   loss: 0.074051\n",
      "Epoch: 0040   loss: 0.065758\n",
      "Epoch: 0045   loss: 0.092850\n",
      "Epoch: 0050   loss: 0.071342\n",
      "Epoch: 0055   loss: 0.077729\n",
      "Epoch: 0060   loss: 0.062106\n",
      "Epoch: 0065   loss: 0.083222\n",
      "Epoch: 0070   loss: 0.084415\n"
     ]
    },
    {
     "ename": "KeyboardInterrupt",
     "evalue": "",
     "output_type": "error",
     "traceback": [
      "\u001b[0;31m---------------------------------------------------------------------------\u001b[0m",
      "\u001b[0;31mKeyboardInterrupt\u001b[0m                         Traceback (most recent call last)",
      "\u001b[0;32m<ipython-input-216-c778b075fe08>\u001b[0m in \u001b[0;36m<module>\u001b[0;34m()\u001b[0m\n\u001b[1;32m     10\u001b[0m         \u001b[0mstart\u001b[0m \u001b[0;34m=\u001b[0m \u001b[0mend\u001b[0m\u001b[0;34m;\u001b[0m \u001b[0mend\u001b[0m \u001b[0;34m=\u001b[0m \u001b[0mstart\u001b[0m\u001b[0;34m+\u001b[0m\u001b[0mbatch_size\u001b[0m\u001b[0;34m\u001b[0m\u001b[0m\n\u001b[1;32m     11\u001b[0m         \u001b[0;31m# Run optimization op (backprop) and loss op (to get loss value)\u001b[0m\u001b[0;34m\u001b[0m\u001b[0;34m\u001b[0m\u001b[0m\n\u001b[0;32m---> 12\u001b[0;31m         \u001b[0m_\u001b[0m\u001b[0;34m,\u001b[0m \u001b[0mc\u001b[0m \u001b[0;34m=\u001b[0m \u001b[0msess\u001b[0m\u001b[0;34m.\u001b[0m\u001b[0mrun\u001b[0m\u001b[0;34m(\u001b[0m\u001b[0;34m[\u001b[0m\u001b[0moptimizer\u001b[0m\u001b[0;34m,\u001b[0m \u001b[0mcost\u001b[0m\u001b[0;34m]\u001b[0m\u001b[0;34m,\u001b[0m \u001b[0mfeed_dict\u001b[0m\u001b[0;34m=\u001b[0m\u001b[0;34m{\u001b[0m\u001b[0mX\u001b[0m\u001b[0;34m:\u001b[0m \u001b[0mbatch_xs\u001b[0m\u001b[0;34m}\u001b[0m\u001b[0;34m)\u001b[0m\u001b[0;34m\u001b[0m\u001b[0m\n\u001b[0m\u001b[1;32m     13\u001b[0m     \u001b[0;31m# Display logs per epoch step\u001b[0m\u001b[0;34m\u001b[0m\u001b[0;34m\u001b[0m\u001b[0m\n\u001b[1;32m     14\u001b[0m     \u001b[0;32mif\u001b[0m \u001b[0;34m(\u001b[0m\u001b[0;34m(\u001b[0m\u001b[0mepoch\u001b[0m \u001b[0;34m==\u001b[0m \u001b[0;36m0\u001b[0m\u001b[0;34m)\u001b[0m \u001b[0;32mor\u001b[0m \u001b[0;34m(\u001b[0m\u001b[0mepoch\u001b[0m\u001b[0;34m+\u001b[0m\u001b[0;36m1\u001b[0m\u001b[0;34m)\u001b[0m \u001b[0;34m%\u001b[0m \u001b[0mdisplay_step\u001b[0m \u001b[0;34m==\u001b[0m \u001b[0;36m0\u001b[0m\u001b[0;34m)\u001b[0m \u001b[0;32mor\u001b[0m \u001b[0;34m(\u001b[0m\u001b[0;34m(\u001b[0m\u001b[0mepoch\u001b[0m\u001b[0;34m+\u001b[0m\u001b[0;36m1\u001b[0m\u001b[0;34m)\u001b[0m \u001b[0;34m==\u001b[0m \u001b[0mtraining_epochs\u001b[0m\u001b[0;34m)\u001b[0m\u001b[0;34m:\u001b[0m\u001b[0;34m\u001b[0m\u001b[0m\n",
      "\u001b[0;32m/usr/local/lib/python2.7/dist-packages/tensorflow/python/client/session.pyc\u001b[0m in \u001b[0;36mrun\u001b[0;34m(self, fetches, feed_dict, options, run_metadata)\u001b[0m\n\u001b[1;32m    764\u001b[0m     \u001b[0;32mtry\u001b[0m\u001b[0;34m:\u001b[0m\u001b[0;34m\u001b[0m\u001b[0m\n\u001b[1;32m    765\u001b[0m       result = self._run(None, fetches, feed_dict, options_ptr,\n\u001b[0;32m--> 766\u001b[0;31m                          run_metadata_ptr)\n\u001b[0m\u001b[1;32m    767\u001b[0m       \u001b[0;32mif\u001b[0m \u001b[0mrun_metadata\u001b[0m\u001b[0;34m:\u001b[0m\u001b[0;34m\u001b[0m\u001b[0m\n\u001b[1;32m    768\u001b[0m         \u001b[0mproto_data\u001b[0m \u001b[0;34m=\u001b[0m \u001b[0mtf_session\u001b[0m\u001b[0;34m.\u001b[0m\u001b[0mTF_GetBuffer\u001b[0m\u001b[0;34m(\u001b[0m\u001b[0mrun_metadata_ptr\u001b[0m\u001b[0;34m)\u001b[0m\u001b[0;34m\u001b[0m\u001b[0m\n",
      "\u001b[0;32m/usr/local/lib/python2.7/dist-packages/tensorflow/python/client/session.pyc\u001b[0m in \u001b[0;36m_run\u001b[0;34m(self, handle, fetches, feed_dict, options, run_metadata)\u001b[0m\n\u001b[1;32m    962\u001b[0m     \u001b[0;32mif\u001b[0m \u001b[0mfinal_fetches\u001b[0m \u001b[0;32mor\u001b[0m \u001b[0mfinal_targets\u001b[0m\u001b[0;34m:\u001b[0m\u001b[0;34m\u001b[0m\u001b[0m\n\u001b[1;32m    963\u001b[0m       results = self._do_run(handle, final_targets, final_fetches,\n\u001b[0;32m--> 964\u001b[0;31m                              feed_dict_string, options, run_metadata)\n\u001b[0m\u001b[1;32m    965\u001b[0m     \u001b[0;32melse\u001b[0m\u001b[0;34m:\u001b[0m\u001b[0;34m\u001b[0m\u001b[0m\n\u001b[1;32m    966\u001b[0m       \u001b[0mresults\u001b[0m \u001b[0;34m=\u001b[0m \u001b[0;34m[\u001b[0m\u001b[0;34m]\u001b[0m\u001b[0;34m\u001b[0m\u001b[0m\n",
      "\u001b[0;32m/usr/local/lib/python2.7/dist-packages/tensorflow/python/client/session.pyc\u001b[0m in \u001b[0;36m_do_run\u001b[0;34m(self, handle, target_list, fetch_list, feed_dict, options, run_metadata)\u001b[0m\n\u001b[1;32m   1012\u001b[0m     \u001b[0;32mif\u001b[0m \u001b[0mhandle\u001b[0m \u001b[0;32mis\u001b[0m \u001b[0mNone\u001b[0m\u001b[0;34m:\u001b[0m\u001b[0;34m\u001b[0m\u001b[0m\n\u001b[1;32m   1013\u001b[0m       return self._do_call(_run_fn, self._session, feed_dict, fetch_list,\n\u001b[0;32m-> 1014\u001b[0;31m                            target_list, options, run_metadata)\n\u001b[0m\u001b[1;32m   1015\u001b[0m     \u001b[0;32melse\u001b[0m\u001b[0;34m:\u001b[0m\u001b[0;34m\u001b[0m\u001b[0m\n\u001b[1;32m   1016\u001b[0m       return self._do_call(_prun_fn, self._session, handle, feed_dict,\n",
      "\u001b[0;32m/usr/local/lib/python2.7/dist-packages/tensorflow/python/client/session.pyc\u001b[0m in \u001b[0;36m_do_call\u001b[0;34m(self, fn, *args)\u001b[0m\n\u001b[1;32m   1019\u001b[0m   \u001b[0;32mdef\u001b[0m \u001b[0m_do_call\u001b[0m\u001b[0;34m(\u001b[0m\u001b[0mself\u001b[0m\u001b[0;34m,\u001b[0m \u001b[0mfn\u001b[0m\u001b[0;34m,\u001b[0m \u001b[0;34m*\u001b[0m\u001b[0margs\u001b[0m\u001b[0;34m)\u001b[0m\u001b[0;34m:\u001b[0m\u001b[0;34m\u001b[0m\u001b[0m\n\u001b[1;32m   1020\u001b[0m     \u001b[0;32mtry\u001b[0m\u001b[0;34m:\u001b[0m\u001b[0;34m\u001b[0m\u001b[0m\n\u001b[0;32m-> 1021\u001b[0;31m       \u001b[0;32mreturn\u001b[0m \u001b[0mfn\u001b[0m\u001b[0;34m(\u001b[0m\u001b[0;34m*\u001b[0m\u001b[0margs\u001b[0m\u001b[0;34m)\u001b[0m\u001b[0;34m\u001b[0m\u001b[0m\n\u001b[0m\u001b[1;32m   1022\u001b[0m     \u001b[0;32mexcept\u001b[0m \u001b[0merrors\u001b[0m\u001b[0;34m.\u001b[0m\u001b[0mOpError\u001b[0m \u001b[0;32mas\u001b[0m \u001b[0me\u001b[0m\u001b[0;34m:\u001b[0m\u001b[0;34m\u001b[0m\u001b[0m\n\u001b[1;32m   1023\u001b[0m       \u001b[0mmessage\u001b[0m \u001b[0;34m=\u001b[0m \u001b[0mcompat\u001b[0m\u001b[0;34m.\u001b[0m\u001b[0mas_text\u001b[0m\u001b[0;34m(\u001b[0m\u001b[0me\u001b[0m\u001b[0;34m.\u001b[0m\u001b[0mmessage\u001b[0m\u001b[0;34m)\u001b[0m\u001b[0;34m\u001b[0m\u001b[0m\n",
      "\u001b[0;32m/usr/local/lib/python2.7/dist-packages/tensorflow/python/client/session.pyc\u001b[0m in \u001b[0;36m_run_fn\u001b[0;34m(session, feed_dict, fetch_list, target_list, options, run_metadata)\u001b[0m\n\u001b[1;32m   1001\u001b[0m         return tf_session.TF_Run(session, options,\n\u001b[1;32m   1002\u001b[0m                                  \u001b[0mfeed_dict\u001b[0m\u001b[0;34m,\u001b[0m \u001b[0mfetch_list\u001b[0m\u001b[0;34m,\u001b[0m \u001b[0mtarget_list\u001b[0m\u001b[0;34m,\u001b[0m\u001b[0;34m\u001b[0m\u001b[0m\n\u001b[0;32m-> 1003\u001b[0;31m                                  status, run_metadata)\n\u001b[0m\u001b[1;32m   1004\u001b[0m \u001b[0;34m\u001b[0m\u001b[0m\n\u001b[1;32m   1005\u001b[0m     \u001b[0;32mdef\u001b[0m \u001b[0m_prun_fn\u001b[0m\u001b[0;34m(\u001b[0m\u001b[0msession\u001b[0m\u001b[0;34m,\u001b[0m \u001b[0mhandle\u001b[0m\u001b[0;34m,\u001b[0m \u001b[0mfeed_dict\u001b[0m\u001b[0;34m,\u001b[0m \u001b[0mfetch_list\u001b[0m\u001b[0;34m)\u001b[0m\u001b[0;34m:\u001b[0m\u001b[0;34m\u001b[0m\u001b[0m\n",
      "\u001b[0;31mKeyboardInterrupt\u001b[0m: "
     ]
    }
   ],
   "source": [
    "total_batch = int(orig_img.shape[0]/batch_size)\n",
    "# Training cycle\n",
    "for epoch in range(training_epochs):\n",
    "    # Loop over all batches\n",
    "    start = 0; end = batch_size\n",
    "    for i in range(total_batch-1):\n",
    "        index = np.arange(start, end)\n",
    "        np.random.shuffle(index)\n",
    "        batch_xs = orig_img[index]\n",
    "        start = end; end = start+batch_size\n",
    "        # Run optimization op (backprop) and loss op (to get loss value)\n",
    "        _, c = sess.run([optimizer, cost], feed_dict={X: batch_xs})\n",
    "    # Display logs per epoch step\n",
    "    if ((epoch == 0) or (epoch+1) % display_step == 0) or ((epoch+1) == training_epochs):\n",
    "        print 'Epoch: {0:04d}   loss: {1:f}'.format(epoch+1, c)\n",
    "\n",
    "print(\"Optimization Finished!\")"
   ]
  },
  {
   "cell_type": "code",
   "execution_count": 199,
   "metadata": {
    "collapsed": true,
    "deletable": true,
    "editable": true
   },
   "outputs": [],
   "source": [
    "# Save trained Variables \n",
    "weightSaver = tf.train.Saver(var_list=weights)\n",
    "biaseSaver = tf.train.Saver(var_list=biases)\n",
    "save_path = weightSaver.save(sess, \"./saved_model/ConvVAE_weights.ckpt\")\n",
    "save_path = biaseSaver.save(sess, \"./saved_model/ConvVAE_biases.ckpt\")"
   ]
  },
  {
   "cell_type": "code",
   "execution_count": 73,
   "metadata": {
    "collapsed": true,
    "deletable": true,
    "editable": true
   },
   "outputs": [],
   "source": [
    "# Convolutional AE model for generate \n",
    "def conv_encoder(x, weights=weights, biases=biases):\n",
    "    # Convolution Layer and Max Pool Layer\n",
    "    conv1 = conv2d(x, weights['encoder_h1'], biases['encoder_h1'])\n",
    "    conv1 = tf.nn.relu(conv1)\n",
    "    maxpool1, _ = maxPool(conv1)\n",
    "\n",
    "    # Convolution Layer and Max Pool Layer\n",
    "    conv2 = conv2d(maxpool1, weights['encoder_h2'], biases['encoder_h2'])\n",
    "    conv2 = tf.nn.relu(conv2)\n",
    "    maxpool2, _ = maxPool(conv2)\n",
    "\n",
    "    # Latent Layer\n",
    "    mu = conv2d(maxpool2, weights['latent_mu'], biases['latent_mu'])\n",
    "    layer_mu = tf.nn.sigmoid(mu)\n",
    "    maxpool_mu, _ = maxPool(layer_mu)\n",
    "    return maxpool_mu\n",
    "\n",
    "def conv_decoder(x, weights=weights, biases=biases):\n",
    "    # Transpose Convolution Layer and Unmax Pool Layer\n",
    "    out_dim1 = tf.stack([examples_to_show, 5, 5, n_channel2])\n",
    "    deconv1 = deconv2d(x, weights['decoder_h1'], biases['decoder_h1'], out_dim1)\n",
    "    deconv1 = tf.nn.sigmoid(deconv1)\n",
    "    unpool1 = unMaxPool(deconv1, out_dim1)\n",
    "    # Transpose Convolution Layer and Unmax Pool Layer\n",
    "    out_dim2 = tf.stack([examples_to_show, 10, 10, n_channel1])\n",
    "    deconv2 = deconv2d(unpool1, weights['decoder_h2'], biases['decoder_h2'], out_dim2)\n",
    "    deconv2 = tf.nn.sigmoid(deconv2)\n",
    "    unpool2 = unMaxPool(deconv2, out_dim2)\n",
    "    # Transpose Convolution Layer and Unmax Pool Layer\n",
    "    out_dim3 = tf.stack([examples_to_show, 20, 20 ,3])\n",
    "    deconv3 = deconv2d(unpool2, weights['decoder_h3'], biases['decoder_h3'], out_dim3)\n",
    "    deconv3 = tf.nn.sigmoid(deconv3)\n",
    "    unpool3 = unMaxPool(deconv3, out_dim3)\n",
    "    return unpool3"
   ]
  },
  {
   "cell_type": "code",
   "execution_count": null,
   "metadata": {
    "collapsed": false,
    "deletable": true,
    "editable": true,
    "scrolled": false
   },
   "outputs": [],
   "source": [
    "# Random select some pokemon to visualization\n",
    "index = np.random.randint(orig_img.shape[0], size=examples_to_show)\n",
    "# latent = sess.run(\n",
    "#     conv_encoder(X), feed_dict={X: orig_img[np.repeat(index, examples_to_show)]})\n",
    "\n",
    "# # Let's GENERATE Pokemon !!!!\n",
    "# latent += np.random.normal(loc=0.0, scale=0.01, size=(10,5,5,64))\n",
    "# convAE = sess.run(conv_decoder(X), feed_dict={X: latent})\n",
    "\n",
    "convAE, _ = sess.run(conv_vae(X), feed_dict={X: orig_img[index]})\n",
    "\n",
    "# Compare original images with their reconstructions\n",
    "f, a = plt.subplots(2, examples_to_show, figsize=(examples_to_show, 2))\n",
    "for i in range(examples_to_show):\n",
    "    a[0][i].imshow(orig_img[index[i]])\n",
    "    a[0,i].axis('off')\n",
    "    a[1][i].imshow(convAE[i])\n",
    "    a[1,i].axis('off')\n",
    "f.show()\n",
    "plt.draw()"
   ]
  },
  {
   "cell_type": "code",
   "execution_count": null,
   "metadata": {
    "collapsed": true,
    "deletable": true,
    "editable": true
   },
   "outputs": [],
   "source": []
  },
  {
   "cell_type": "code",
   "execution_count": null,
   "metadata": {
    "collapsed": true
   },
   "outputs": [],
   "source": []
  },
  {
   "cell_type": "code",
   "execution_count": null,
   "metadata": {
    "collapsed": true
   },
   "outputs": [],
   "source": []
  },
  {
   "cell_type": "code",
   "execution_count": null,
   "metadata": {
    "collapsed": true
   },
   "outputs": [],
   "source": []
  },
  {
   "cell_type": "code",
   "execution_count": null,
   "metadata": {
    "collapsed": true
   },
   "outputs": [],
   "source": []
  },
  {
   "cell_type": "code",
   "execution_count": null,
   "metadata": {
    "collapsed": true
   },
   "outputs": [],
   "source": [
    "# Create model\n",
    "def conv_vae(x, weights=weights, biases=biases):\n",
    "    # Convolution Layer and Max Pool Layer\n",
    "    conv1 = conv2d(x, weights['encoder_h1'], biases['encoder_h1'])\n",
    "    conv1 = lrelu(conv1)\n",
    "    maxpool1, _ = maxPool(conv1)\n",
    "\n",
    "    # Convolution Layer and Max Pool Layer\n",
    "    conv2 = conv2d(maxpool1, weights['encoder_h2'], biases['encoder_h2'])\n",
    "    conv2 = lrelu(conv2)\n",
    "#     maxpool2, _ = maxPool(conv2)\n",
    "\n",
    "    # Latent Layer\n",
    "    mu = conv2d(conv2, weights['latent_mu'], biases['latent_mu'])\n",
    "    layer_mu = lrelu(mu)\n",
    "    sig = conv2d(conv2, weights['latent_sig'], biases['latent_sig'])\n",
    "    layer_sig = tf.nn.tanh(sig)\n",
    "    KLD = -0.5 * tf.reduce_sum(1+sig-tf.pow(mu, 2)-tf.exp(sig), reduction_indices=(1,2,3))\n",
    "    \n",
    "    epsilon = tf.random_normal(tf.shape(layer_sig), stddev=0.003, name='epsilon')\n",
    "    layer_latent = tf.add(layer_mu, tf.multiply(tf.exp(0.5*layer_sig), epsilon))\n",
    "#     maxpool_latent, _ = maxPool(layer_latent)\n",
    "    maxpool_latent, _ = maxPool(layer_mu)\n",
    "    # Transpose Convolution Layer and Unmax Pool Layer\n",
    "    out_dim1 = tf.stack([tf.shape(x)[0], 10, 10, n_channel2])\n",
    "    deconv1 = deconv2d(maxpool_latent, weights['decoder_h1'], biases['decoder_h1'], out_dim1)\n",
    "    deconv1 = lrelu(deconv1)\n",
    "    unpool1 = unMaxPool(deconv1, out_dim1)\n",
    "    # Transpose Convolution Layer and Unmax Pool Layer\n",
    "    out_dim2 = tf.stack([tf.shape(x)[0], 10, 10, n_channel1])\n",
    "    deconv2 = deconv2d(unpool1, weights['decoder_h2'], biases['decoder_h2'], out_dim2)\n",
    "    deconv2 = lrelu(deconv2)\n",
    "    unpool2 = unMaxPool(deconv2, out_dim2)\n",
    "    # Transpose Convolution Layer and Unmax Pool Layer\n",
    "    out_dim3 = tf.stack([tf.shape(x)[0], 20, 20 ,3])\n",
    "    deconv3 = deconv2d(unpool2, weights['decoder_h3'], biases['decoder_h3'], out_dim3)\n",
    "    deconv3 = lrelu(deconv3)\n",
    "    unpool3 = unMaxPool(deconv3, out_dim3)\n",
    "\n",
    "    return unpool3, KLD"
   ]
  },
  {
   "cell_type": "code",
   "execution_count": null,
   "metadata": {
    "collapsed": true
   },
   "outputs": [],
   "source": []
  },
  {
   "cell_type": "code",
   "execution_count": null,
   "metadata": {
    "collapsed": true
   },
   "outputs": [],
   "source": []
  },
  {
   "cell_type": "code",
   "execution_count": null,
   "metadata": {
    "collapsed": true
   },
   "outputs": [],
   "source": []
  },
  {
   "cell_type": "code",
   "execution_count": null,
   "metadata": {
    "collapsed": true
   },
   "outputs": [],
   "source": []
  },
  {
   "cell_type": "code",
   "execution_count": null,
   "metadata": {
    "collapsed": true
   },
   "outputs": [],
   "source": []
  },
  {
   "cell_type": "code",
   "execution_count": null,
   "metadata": {
    "collapsed": true
   },
   "outputs": [],
   "source": []
  },
  {
   "cell_type": "code",
   "execution_count": null,
   "metadata": {
    "collapsed": true
   },
   "outputs": [],
   "source": []
  },
  {
   "cell_type": "code",
   "execution_count": null,
   "metadata": {
    "collapsed": true
   },
   "outputs": [],
   "source": []
  }
 ],
 "metadata": {
  "kernelspec": {
   "display_name": "Python 2",
   "language": "python",
   "name": "python2"
  },
  "language_info": {
   "codemirror_mode": {
    "name": "ipython",
    "version": 2
   },
   "file_extension": ".py",
   "mimetype": "text/x-python",
   "name": "python",
   "nbconvert_exporter": "python",
   "pygments_lexer": "ipython2",
   "version": "2.7.12"
  }
 },
 "nbformat": 4,
 "nbformat_minor": 2
}
